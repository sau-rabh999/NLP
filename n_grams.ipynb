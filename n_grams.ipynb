{
  "nbformat": 4,
  "nbformat_minor": 0,
  "metadata": {
    "colab": {
      "name": "n grams",
      "provenance": [],
      "authorship_tag": "ABX9TyOisoLlMCCvDKgQrCXCSw5l",
      "include_colab_link": true
    },
    "kernelspec": {
      "name": "python3",
      "display_name": "Python 3"
    },
    "language_info": {
      "name": "python"
    }
  },
  "cells": [
    {
      "cell_type": "markdown",
      "metadata": {
        "id": "view-in-github",
        "colab_type": "text"
      },
      "source": [
        "<a href=\"https://colab.research.google.com/github/sau-rabh999/NLP/blob/main/n_grams.ipynb\" target=\"_parent\"><img src=\"https://colab.research.google.com/assets/colab-badge.svg\" alt=\"Open In Colab\"/></a>"
      ]
    },
    {
      "cell_type": "code",
      "metadata": {
        "colab": {
          "base_uri": "https://localhost:8080/"
        },
        "id": "2hFElaXHlnw5",
        "outputId": "184110f3-f489-49e7-d9af-eb21383a35e8"
      },
      "source": [
        "s = '''\n",
        "I am a teacher.\n",
        "Any teacher loves to teach.\n",
        "Any teacher has also to learn before he can teach.\n",
        "'''\n",
        "s = s.lower()\n",
        "print(s)\n",
        "\n",
        "import nltk\n",
        "import re\n",
        "from nltk.tokenize import sent_tokenize\n",
        "tokens = sent_tokenize(s)\n",
        "print(tokens)\n",
        "\n",
        "\n",
        "\n",
        "\n",
        "\n",
        "  "
      ],
      "execution_count": null,
      "outputs": [
        {
          "output_type": "stream",
          "text": [
            "\n",
            "i am a teacher.\n",
            "any teacher loves to teach.\n",
            "any teacher has also to learn before he can teach.\n",
            "\n"
          ],
          "name": "stdout"
        }
      ]
    },
    {
      "cell_type": "code",
      "metadata": {
        "colab": {
          "base_uri": "https://localhost:8080/",
          "height": 310
        },
        "id": "J9WloyaAmdfZ",
        "outputId": "477d882c-48eb-46bb-9481-a990cd196c20"
      },
      "source": [
        "s1 = combine(s)\n",
        "print(s1)"
      ],
      "execution_count": null,
      "outputs": [
        {
          "output_type": "error",
          "ename": "TypeError",
          "evalue": "ignored",
          "traceback": [
            "\u001b[0;31m---------------------------------------------------------------------------\u001b[0m",
            "\u001b[0;31mTypeError\u001b[0m                                 Traceback (most recent call last)",
            "\u001b[0;32m<ipython-input-31-7b0adb8a3229>\u001b[0m in \u001b[0;36m<module>\u001b[0;34m()\u001b[0m\n\u001b[0;32m----> 1\u001b[0;31m \u001b[0ms1\u001b[0m \u001b[0;34m=\u001b[0m \u001b[0mcombine\u001b[0m\u001b[0;34m(\u001b[0m\u001b[0ms\u001b[0m\u001b[0;34m)\u001b[0m\u001b[0;34m\u001b[0m\u001b[0;34m\u001b[0m\u001b[0m\n\u001b[0m\u001b[1;32m      2\u001b[0m \u001b[0mprint\u001b[0m\u001b[0;34m(\u001b[0m\u001b[0ms1\u001b[0m\u001b[0;34m)\u001b[0m\u001b[0;34m\u001b[0m\u001b[0;34m\u001b[0m\u001b[0m\n",
            "\u001b[0;32m<ipython-input-26-5862fb501b5f>\u001b[0m in \u001b[0;36mcombine\u001b[0;34m(tokens)\u001b[0m\n\u001b[1;32m     19\u001b[0m \u001b[0;34m\u001b[0m\u001b[0m\n\u001b[1;32m     20\u001b[0m \u001b[0;32mdef\u001b[0m \u001b[0mcombine\u001b[0m\u001b[0;34m(\u001b[0m\u001b[0mtokens\u001b[0m\u001b[0;34m)\u001b[0m\u001b[0;34m:\u001b[0m\u001b[0;34m\u001b[0m\u001b[0;34m\u001b[0m\u001b[0m\n\u001b[0;32m---> 21\u001b[0;31m   \u001b[0mstr\u001b[0m \u001b[0;34m=\u001b[0m \u001b[0;34m'<s> '\u001b[0m\u001b[0;34m+\u001b[0m\u001b[0mtokens\u001b[0m\u001b[0;34m+\u001b[0m\u001b[0;34m' </s>'\u001b[0m\u001b[0;34m\u001b[0m\u001b[0;34m\u001b[0m\u001b[0m\n\u001b[0m\u001b[1;32m     22\u001b[0m   \u001b[0;32mreturn\u001b[0m \u001b[0mstr\u001b[0m\u001b[0;34m\u001b[0m\u001b[0;34m\u001b[0m\u001b[0m\n\u001b[1;32m     23\u001b[0m \u001b[0;34m\u001b[0m\u001b[0m\n",
            "\u001b[0;31mTypeError\u001b[0m: can only concatenate str (not \"list\") to str"
          ]
        }
      ]
    },
    {
      "cell_type": "code",
      "metadata": {
        "colab": {
          "base_uri": "https://localhost:8080/"
        },
        "id": "P8jzstEentnX",
        "outputId": "d54f670a-bbc8-4ca6-fe73-376cabdd58d3"
      },
      "source": [
        "tokens = s1.split(' ')\n",
        "bigrams = [(tokens[i],tokens[i+1]) for i in range(0,len(tokens)-1)]\n",
        "bigrams"
      ],
      "execution_count": null,
      "outputs": [
        {
          "output_type": "execute_result",
          "data": {
            "text/plain": [
              "[('<s>', '\\ni'),\n",
              " ('\\ni', 'am'),\n",
              " ('am', 'a'),\n",
              " ('a', 'teacher'),\n",
              " ('teacher', '\\nany'),\n",
              " ('\\nany', 'teacher'),\n",
              " ('teacher', 'loves'),\n",
              " ('loves', 'to'),\n",
              " ('to', 'teach'),\n",
              " ('teach', '\\nany'),\n",
              " ('\\nany', 'teacher'),\n",
              " ('teacher', 'has'),\n",
              " ('has', 'also'),\n",
              " ('also', 'to'),\n",
              " ('to', 'learn'),\n",
              " ('learn', 'before'),\n",
              " ('before', 'he'),\n",
              " ('he', 'can'),\n",
              " ('can', 'teach'),\n",
              " ('teach', '\\n'),\n",
              " ('\\n', '</s>')]"
            ]
          },
          "metadata": {
            "tags": []
          },
          "execution_count": 23
        }
      ]
    },
    {
      "cell_type": "code",
      "metadata": {
        "colab": {
          "base_uri": "https://localhost:8080/"
        },
        "id": "WB4m0wpkoc0A",
        "outputId": "dfe88a62-8a37-4a56-f726-694beb240d51"
      },
      "source": [
        "from collections import Counter\n",
        "count = Counter(bigrams)\n",
        "count"
      ],
      "execution_count": null,
      "outputs": [
        {
          "output_type": "execute_result",
          "data": {
            "text/plain": [
              "Counter({('\\n', '</s>'): 1,\n",
              "         ('\\nany', 'teacher'): 2,\n",
              "         ('\\ni', 'am'): 1,\n",
              "         ('<s>', '\\ni'): 1,\n",
              "         ('a', 'teacher'): 1,\n",
              "         ('also', 'to'): 1,\n",
              "         ('am', 'a'): 1,\n",
              "         ('before', 'he'): 1,\n",
              "         ('can', 'teach'): 1,\n",
              "         ('has', 'also'): 1,\n",
              "         ('he', 'can'): 1,\n",
              "         ('learn', 'before'): 1,\n",
              "         ('loves', 'to'): 1,\n",
              "         ('teach', '\\n'): 1,\n",
              "         ('teach', '\\nany'): 1,\n",
              "         ('teacher', '\\nany'): 1,\n",
              "         ('teacher', 'has'): 1,\n",
              "         ('teacher', 'loves'): 1,\n",
              "         ('to', 'learn'): 1,\n",
              "         ('to', 'teach'): 1})"
            ]
          },
          "metadata": {
            "tags": []
          },
          "execution_count": 24
        }
      ]
    },
    {
      "cell_type": "code",
      "metadata": {
        "id": "UnjCnhhLo0RB"
      },
      "source": [
        ""
      ],
      "execution_count": null,
      "outputs": []
    }
  ]
}