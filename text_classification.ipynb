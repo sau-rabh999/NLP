{
  "nbformat": 4,
  "nbformat_minor": 0,
  "metadata": {
    "colab": {
      "name": "text classification.ipynb",
      "provenance": [],
      "authorship_tag": "ABX9TyPW5yK95NQuA+GuSPDe17cW",
      "include_colab_link": true
    },
    "kernelspec": {
      "display_name": "Python 3",
      "name": "python3"
    },
    "language_info": {
      "name": "python"
    }
  },
  "cells": [
    {
      "cell_type": "markdown",
      "metadata": {
        "id": "view-in-github",
        "colab_type": "text"
      },
      "source": [
        "<a href=\"https://colab.research.google.com/github/sau-rabh999/NLP/blob/main/text_classification.ipynb\" target=\"_parent\"><img src=\"https://colab.research.google.com/assets/colab-badge.svg\" alt=\"Open In Colab\"/></a>"
      ]
    },
    {
      "cell_type": "code",
      "metadata": {
        "id": "0JlieYPGy9hn"
      },
      "source": [
        "import numpy as np\n",
        "import pandas as pd"
      ],
      "execution_count": 1,
      "outputs": []
    },
    {
      "cell_type": "code",
      "metadata": {
        "colab": {
          "base_uri": "https://localhost:8080/",
          "height": 171
        },
        "id": "FlbhGshxzLyi",
        "outputId": "8ab270ac-982c-4488-9304-16153018cc35"
      },
      "source": [
        "df = pd.read_csv('cf.csv')\n",
        "df.head()"
      ],
      "execution_count": 2,
      "outputs": [
        {
          "output_type": "execute_result",
          "data": {
            "text/html": [
              "<div>\n",
              "<style scoped>\n",
              "    .dataframe tbody tr th:only-of-type {\n",
              "        vertical-align: middle;\n",
              "    }\n",
              "\n",
              "    .dataframe tbody tr th {\n",
              "        vertical-align: top;\n",
              "    }\n",
              "\n",
              "    .dataframe thead th {\n",
              "        text-align: right;\n",
              "    }\n",
              "</style>\n",
              "<table border=\"1\" class=\"dataframe\">\n",
              "  <thead>\n",
              "    <tr style=\"text-align: right;\">\n",
              "      <th></th>\n",
              "      <th>Title</th>\n",
              "      <th>category</th>\n",
              "    </tr>\n",
              "  </thead>\n",
              "  <tbody>\n",
              "    <tr>\n",
              "      <th>0</th>\n",
              "      <td>Cricket is played with a bat and ball and invo...</td>\n",
              "      <td>c</td>\n",
              "    </tr>\n",
              "    <tr>\n",
              "      <th>1</th>\n",
              "      <td>Football is a game that millions of people aro...</td>\n",
              "      <td>f</td>\n",
              "    </tr>\n",
              "    <tr>\n",
              "      <th>2</th>\n",
              "      <td>This game is played by millions all over the w...</td>\n",
              "      <td>c</td>\n",
              "    </tr>\n",
              "    <tr>\n",
              "      <th>3</th>\n",
              "      <td>This game is one that is loved  and played  by...</td>\n",
              "      <td>f</td>\n",
              "    </tr>\n",
              "  </tbody>\n",
              "</table>\n",
              "</div>"
            ],
            "text/plain": [
              "                                               Title category\n",
              "0  Cricket is played with a bat and ball and invo...        c\n",
              "1  Football is a game that millions of people aro...        f\n",
              "2  This game is played by millions all over the w...        c\n",
              "3  This game is one that is loved  and played  by...        f"
            ]
          },
          "metadata": {
            "tags": []
          },
          "execution_count": 2
        }
      ]
    },
    {
      "cell_type": "code",
      "metadata": {
        "colab": {
          "base_uri": "https://localhost:8080/"
        },
        "id": "thNcWr8JzhAs",
        "outputId": "a04ebbf5-3a47-43e6-e634-774949868035"
      },
      "source": [
        "df.shape"
      ],
      "execution_count": 3,
      "outputs": [
        {
          "output_type": "execute_result",
          "data": {
            "text/plain": [
              "(4, 2)"
            ]
          },
          "metadata": {
            "tags": []
          },
          "execution_count": 3
        }
      ]
    },
    {
      "cell_type": "code",
      "metadata": {
        "colab": {
          "base_uri": "https://localhost:8080/"
        },
        "id": "PlxV9j9FzmIm",
        "outputId": "26d072b4-abb2-4c61-a560-8d4bb5c10cc8"
      },
      "source": [
        "df['category'].value_counts()"
      ],
      "execution_count": 4,
      "outputs": [
        {
          "output_type": "execute_result",
          "data": {
            "text/plain": [
              "f    2\n",
              "c    2\n",
              "Name: category, dtype: int64"
            ]
          },
          "metadata": {
            "tags": []
          },
          "execution_count": 4
        }
      ]
    },
    {
      "cell_type": "code",
      "metadata": {
        "colab": {
          "base_uri": "https://localhost:8080/"
        },
        "id": "Ucs7YS-izwL7",
        "outputId": "f99f78e7-81ff-4d05-ac99-4f4904ee0697"
      },
      "source": [
        "import nltk\n",
        "import re\n",
        "import string\n",
        "from nltk import word_tokenize\n",
        "nltk.download('stopwords')\n",
        "nltk.download('punkt')\n",
        "from nltk.corpus import stopwords\n",
        "stopwords = stopwords.words('english')\n",
        "from nltk.stem.porter import PorterStemmer\n",
        "from nltk.stem import WordNetLemmatizer\n"
      ],
      "execution_count": 5,
      "outputs": [
        {
          "output_type": "stream",
          "text": [
            "[nltk_data] Downloading package stopwords to /root/nltk_data...\n",
            "[nltk_data]   Unzipping corpora/stopwords.zip.\n",
            "[nltk_data] Downloading package punkt to /root/nltk_data...\n",
            "[nltk_data]   Unzipping tokenizers/punkt.zip.\n"
          ],
          "name": "stdout"
        }
      ]
    },
    {
      "cell_type": "code",
      "metadata": {
        "id": "IpIBuB2NtBul"
      },
      "source": [
        "def text_clean(a):\n",
        "  remove_punctuation = [char for char in a if char not in string.punctuation]\n",
        "  remove_punctuation = re.sub(r'\\d+', '',a)\n",
        "  remove_punctuation = ''.join(remove_punctuation)\n",
        "  return[word for word in remove_punctuation.split() if word.lower() not in set(stopwords)]"
      ],
      "execution_count": 6,
      "outputs": []
    },
    {
      "cell_type": "code",
      "metadata": {
        "colab": {
          "base_uri": "https://localhost:8080/",
          "height": 171
        },
        "id": "hpBbcITtudVf",
        "outputId": "1981b699-f26d-4fe0-bde1-9fc2f46e268e"
      },
      "source": [
        "df.head()"
      ],
      "execution_count": 7,
      "outputs": [
        {
          "output_type": "execute_result",
          "data": {
            "text/html": [
              "<div>\n",
              "<style scoped>\n",
              "    .dataframe tbody tr th:only-of-type {\n",
              "        vertical-align: middle;\n",
              "    }\n",
              "\n",
              "    .dataframe tbody tr th {\n",
              "        vertical-align: top;\n",
              "    }\n",
              "\n",
              "    .dataframe thead th {\n",
              "        text-align: right;\n",
              "    }\n",
              "</style>\n",
              "<table border=\"1\" class=\"dataframe\">\n",
              "  <thead>\n",
              "    <tr style=\"text-align: right;\">\n",
              "      <th></th>\n",
              "      <th>Title</th>\n",
              "      <th>category</th>\n",
              "    </tr>\n",
              "  </thead>\n",
              "  <tbody>\n",
              "    <tr>\n",
              "      <th>0</th>\n",
              "      <td>Cricket is played with a bat and ball and invo...</td>\n",
              "      <td>c</td>\n",
              "    </tr>\n",
              "    <tr>\n",
              "      <th>1</th>\n",
              "      <td>Football is a game that millions of people aro...</td>\n",
              "      <td>f</td>\n",
              "    </tr>\n",
              "    <tr>\n",
              "      <th>2</th>\n",
              "      <td>This game is played by millions all over the w...</td>\n",
              "      <td>c</td>\n",
              "    </tr>\n",
              "    <tr>\n",
              "      <th>3</th>\n",
              "      <td>This game is one that is loved  and played  by...</td>\n",
              "      <td>f</td>\n",
              "    </tr>\n",
              "  </tbody>\n",
              "</table>\n",
              "</div>"
            ],
            "text/plain": [
              "                                               Title category\n",
              "0  Cricket is played with a bat and ball and invo...        c\n",
              "1  Football is a game that millions of people aro...        f\n",
              "2  This game is played by millions all over the w...        c\n",
              "3  This game is one that is loved  and played  by...        f"
            ]
          },
          "metadata": {
            "tags": []
          },
          "execution_count": 7
        }
      ]
    },
    {
      "cell_type": "code",
      "metadata": {
        "colab": {
          "base_uri": "https://localhost:8080/"
        },
        "id": "SZIBfOyRugfW",
        "outputId": "d74b5d60-41c8-42a4-8c39-61fb3281e3e9"
      },
      "source": [
        "print(df.iloc[:,0].apply(text_clean))"
      ],
      "execution_count": 8,
      "outputs": [
        {
          "output_type": "stream",
          "text": [
            "0    [Cricket, played, bat, ball, involves, two, co...\n",
            "1    [Football, game, millions, people, around, wor...\n",
            "2    [game, played, millions, world, use, bat, ,bal...\n",
            "3           [game, one, loved, played, many, nations.]\n",
            "Name: Title, dtype: object\n"
          ],
          "name": "stdout"
        }
      ]
    },
    {
      "cell_type": "code",
      "metadata": {
        "colab": {
          "base_uri": "https://localhost:8080/"
        },
        "id": "GitaPCQ7w_Cd",
        "outputId": "a9be5230-239f-4304-d110-1640ab18dc17"
      },
      "source": [
        "from sklearn.feature_extraction.text import CountVectorizer\n",
        "cv = CountVectorizer(analyzer = text_clean).fit(df['Title'])\n",
        "cv.vocabulary_\n"
      ],
      "execution_count": 9,
      "outputs": [
        {
          "output_type": "execute_result",
          "data": {
            "text/plain": [
              "{'(teams)': 0,\n",
              " ',ball': 1,\n",
              " 'Cricket': 2,\n",
              " 'Football': 3,\n",
              " 'area': 4,\n",
              " 'around': 5,\n",
              " 'ball': 6,\n",
              " 'bat': 7,\n",
              " 'big': 8,\n",
              " 'called': 9,\n",
              " 'competing': 10,\n",
              " 'every': 11,\n",
              " 'field': 12,\n",
              " 'game': 13,\n",
              " 'involves': 14,\n",
              " 'it.': 15,\n",
              " 'known': 16,\n",
              " 'love.': 17,\n",
              " 'loved': 18,\n",
              " 'many': 19,\n",
              " 'middle,': 20,\n",
              " 'millions': 21,\n",
              " 'nation': 22,\n",
              " 'nations.': 23,\n",
              " 'one': 24,\n",
              " 'oval': 25,\n",
              " 'people': 26,\n",
              " 'pitch,': 27,\n",
              " 'pitch.': 28,\n",
              " 'play': 29,\n",
              " 'played': 30,\n",
              " 'players.': 31,\n",
              " 'rectangular': 32,\n",
              " 'sides': 33,\n",
              " 'small': 34,\n",
              " 'two': 35,\n",
              " 'universal': 36,\n",
              " 'use': 37,\n",
              " 'world': 38,\n",
              " 'yards.': 39}"
            ]
          },
          "metadata": {
            "tags": []
          },
          "execution_count": 9
        }
      ]
    },
    {
      "cell_type": "code",
      "metadata": {
        "colab": {
          "base_uri": "https://localhost:8080/"
        },
        "id": "7Ckhjc-wyLGm",
        "outputId": "cb2fad99-5454-44e0-a3c9-93a23c7a6fd6"
      },
      "source": [
        "title_bow = cv.transform(df['Title'])\n",
        "print(title_bow)"
      ],
      "execution_count": 10,
      "outputs": [
        {
          "output_type": "stream",
          "text": [
            "  (0, 0)\t1\n",
            "  (0, 2)\t1\n",
            "  (0, 4)\t1\n",
            "  (0, 6)\t1\n",
            "  (0, 7)\t1\n",
            "  (0, 10)\t1\n",
            "  (0, 12)\t1\n",
            "  (0, 14)\t1\n",
            "  (0, 16)\t1\n",
            "  (0, 20)\t1\n",
            "  (0, 25)\t1\n",
            "  (0, 27)\t1\n",
            "  (0, 30)\t1\n",
            "  (0, 31)\t1\n",
            "  (0, 32)\t1\n",
            "  (0, 33)\t1\n",
            "  (0, 35)\t1\n",
            "  (0, 39)\t1\n",
            "  (1, 3)\t1\n",
            "  (1, 5)\t1\n",
            "  (1, 8)\t1\n",
            "  (1, 9)\t1\n",
            "  (1, 11)\t1\n",
            "  (1, 13)\t2\n",
            "  (1, 15)\t1\n",
            "  (1, 17)\t1\n",
            "  (1, 21)\t1\n",
            "  (1, 22)\t1\n",
            "  (1, 26)\t1\n",
            "  (1, 29)\t2\n",
            "  (1, 34)\t1\n",
            "  (1, 36)\t1\n",
            "  (1, 38)\t1\n",
            "  (2, 1)\t1\n",
            "  (2, 7)\t1\n",
            "  (2, 13)\t1\n",
            "  (2, 21)\t1\n",
            "  (2, 25)\t1\n",
            "  (2, 28)\t1\n",
            "  (2, 30)\t1\n",
            "  (2, 37)\t1\n",
            "  (2, 38)\t1\n",
            "  (3, 13)\t1\n",
            "  (3, 18)\t1\n",
            "  (3, 19)\t1\n",
            "  (3, 23)\t1\n",
            "  (3, 24)\t1\n",
            "  (3, 30)\t1\n"
          ],
          "name": "stdout"
        }
      ]
    },
    {
      "cell_type": "code",
      "metadata": {
        "colab": {
          "base_uri": "https://localhost:8080/"
        },
        "id": "2RzE6VxmzGeZ",
        "outputId": "04c28da8-1fc1-4e78-e008-9c4b759c9a3f"
      },
      "source": [
        "x = title_bow.toarray()\n",
        "print(x)"
      ],
      "execution_count": 11,
      "outputs": [
        {
          "output_type": "stream",
          "text": [
            "[[1 0 1 0 1 0 1 1 0 0 1 0 1 0 1 0 1 0 0 0 1 0 0 0 0 1 0 1 0 0 1 1 1 1 0 1\n",
            "  0 0 0 1]\n",
            " [0 0 0 1 0 1 0 0 1 1 0 1 0 2 0 1 0 1 0 0 0 1 1 0 0 0 1 0 0 2 0 0 0 0 1 0\n",
            "  1 0 1 0]\n",
            " [0 1 0 0 0 0 0 1 0 0 0 0 0 1 0 0 0 0 0 0 0 1 0 0 0 1 0 0 1 0 1 0 0 0 0 0\n",
            "  0 1 1 0]\n",
            " [0 0 0 0 0 0 0 0 0 0 0 0 0 1 0 0 0 0 1 1 0 0 0 1 1 0 0 0 0 0 1 0 0 0 0 0\n",
            "  0 0 0 0]]\n"
          ],
          "name": "stdout"
        }
      ]
    },
    {
      "cell_type": "code",
      "metadata": {
        "colab": {
          "base_uri": "https://localhost:8080/"
        },
        "id": "DuetAYliyioO",
        "outputId": "b6f8dded-4d88-4574-caf2-744c19b4d555"
      },
      "source": [
        "from sklearn.feature_extraction.text import TfidfVectorizer\n",
        "tfidf = TfidfVectorizer()\n",
        "x = tfidf.fit_transform(df['Title']).toarray()\n",
        "y = df.iloc[:, -1].values\n",
        "print(x)"
      ],
      "execution_count": 12,
      "outputs": [
        {
          "output_type": "stream",
          "text": [
            "[[0.17641976 0.17641976 0.         0.18412629 0.17641976 0.\n",
            "  0.17641976 0.13909136 0.13909136 0.         0.         0.\n",
            "  0.         0.         0.         0.17641976 0.17641976 0.\n",
            "  0.17641976 0.         0.         0.17641976 0.17641976 0.27618944\n",
            "  0.         0.17641976 0.         0.         0.         0.17641976\n",
            "  0.         0.         0.         0.13909136 0.         0.13909136\n",
            "  0.         0.         0.13909136 0.         0.11260645 0.17641976\n",
            "  0.17641976 0.17641976 0.         0.17641976 0.11260645 0.33781934\n",
            "  0.         0.17641976 0.         0.         0.35283951 0.\n",
            "  0.17641976]\n",
            " [0.         0.         0.         0.20209255 0.         0.19363404\n",
            "  0.         0.         0.         0.19363404 0.19363404 0.19363404\n",
            "  0.         0.19363404 0.19363404 0.         0.         0.19363404\n",
            "  0.         0.19363404 0.2471882  0.         0.         0.10104628\n",
            "  0.38726808 0.         0.19363404 0.         0.         0.\n",
            "  0.1526633  0.19363404 0.         0.1526633  0.         0.\n",
            "  0.         0.19363404 0.         0.38726808 0.         0.\n",
            "  0.         0.         0.19363404 0.         0.1235941  0.1235941\n",
            "  0.         0.         0.19363404 0.         0.         0.1526633\n",
            "  0.        ]\n",
            " [0.         0.         0.30777879 0.32122348 0.         0.\n",
            "  0.         0.24265633 0.24265633 0.         0.         0.\n",
            "  0.24265633 0.         0.         0.         0.         0.\n",
            "  0.         0.         0.19645121 0.         0.         0.16061174\n",
            "  0.         0.         0.         0.         0.         0.\n",
            "  0.24265633 0.         0.         0.         0.         0.24265633\n",
            "  0.30777879 0.         0.24265633 0.         0.19645121 0.\n",
            "  0.         0.         0.         0.         0.         0.19645121\n",
            "  0.24265633 0.         0.         0.30777879 0.         0.24265633\n",
            "  0.        ]\n",
            " [0.         0.         0.         0.18652656 0.         0.\n",
            "  0.         0.         0.         0.         0.         0.\n",
            "  0.28180911 0.         0.         0.         0.         0.\n",
            "  0.         0.         0.22814876 0.         0.         0.37305312\n",
            "  0.         0.         0.         0.35743912 0.35743912 0.\n",
            "  0.         0.         0.35743912 0.         0.35743912 0.\n",
            "  0.         0.         0.         0.         0.22814876 0.\n",
            "  0.         0.         0.         0.         0.22814876 0.\n",
            "  0.28180911 0.         0.         0.         0.         0.\n",
            "  0.        ]]\n"
          ],
          "name": "stdout"
        }
      ]
    },
    {
      "cell_type": "code",
      "metadata": {
        "id": "F9-oiG-Y9BFw"
      },
      "source": [
        "from sklearn.model_selection import train_test_split\n",
        "x_train, x_test, y_train, y_test = train_test_split(x, y, test_size = 0.50, random_state = 0)"
      ],
      "execution_count": 13,
      "outputs": []
    },
    {
      "cell_type": "code",
      "metadata": {
        "colab": {
          "base_uri": "https://localhost:8080/"
        },
        "id": "9RjcHOf86xh4",
        "outputId": "e660057b-d10b-40be-f3f9-432ea45f7a38"
      },
      "source": [
        "from sklearn.naive_bayes import MultinomialNB\n",
        "classifierNB = MultinomialNB()\n",
        "classifierNB.fit(x_train, y_train)"
      ],
      "execution_count": 14,
      "outputs": [
        {
          "output_type": "execute_result",
          "data": {
            "text/plain": [
              "MultinomialNB(alpha=1.0, class_prior=None, fit_prior=True)"
            ]
          },
          "metadata": {
            "tags": []
          },
          "execution_count": 14
        }
      ]
    },
    {
      "cell_type": "code",
      "metadata": {
        "colab": {
          "base_uri": "https://localhost:8080/"
        },
        "id": "DQwYNRMH7RBT",
        "outputId": "aa2c4705-84c4-4e23-bf41-d3fd5b2decc3"
      },
      "source": [
        "y_pred = classifierNB.predict(x_test)\n",
        "print(np.concatenate((y_pred.reshape(len(y_pred),1), y_test.reshape(len(y_test),1)),1))"
      ],
      "execution_count": 15,
      "outputs": [
        {
          "output_type": "stream",
          "text": [
            "[['c' 'c']\n",
            " ['f' 'f']]\n"
          ],
          "name": "stdout"
        }
      ]
    },
    {
      "cell_type": "code",
      "metadata": {
        "colab": {
          "base_uri": "https://localhost:8080/"
        },
        "id": "kBH8bQ0V7Xeo",
        "outputId": "c40f3ac8-7c34-4f6c-b4b8-c09cf8c1a3a4"
      },
      "source": [
        "from sklearn.metrics import confusion_matrix, accuracy_score, f1_score\n",
        "cm = confusion_matrix(y_test, y_pred)\n",
        "print(cm)\n",
        "accuracy_score(y_test, y_pred)"
      ],
      "execution_count": 16,
      "outputs": [
        {
          "output_type": "stream",
          "text": [
            "[[1 0]\n",
            " [0 1]]\n"
          ],
          "name": "stdout"
        },
        {
          "output_type": "execute_result",
          "data": {
            "text/plain": [
              "1.0"
            ]
          },
          "metadata": {
            "tags": []
          },
          "execution_count": 16
        }
      ]
    }
  ]
}