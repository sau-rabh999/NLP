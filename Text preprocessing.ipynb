{
 "cells": [
  {
   "cell_type": "code",
   "execution_count": 10,
   "metadata": {},
   "outputs": [],
   "source": [
    "import re\n",
    "import nltk\n",
    "import numpy as np\n",
    "import pandas as pd\n"
   ]
  },
  {
   "cell_type": "code",
   "execution_count": 11,
   "metadata": {},
   "outputs": [
    {
     "name": "stdout",
     "output_type": "stream",
     "text": [
      "\n",
      "thou hast made me endless, such is thy pleasure. this frail vessel thou emptiest again and again, and fillest it ever with fresh life.\n",
      "\n",
      "this little flute of a reed thou hast carried over hills and dales, and hast breathed through it melodies eternally new.\n",
      "\n",
      "at the immortal touch of thy hands my little heart loses its limits in joy and gives birth to utterance ineffable.\n",
      "\n",
      "thy infinite gifts come to me only on these very small hands of mine. ages pass, and still thou pourest, and still there is room to fill.\n",
      "\n",
      "\n"
     ]
    }
   ],
   "source": [
    "#lowercase\n",
    "input_doc = '''\n",
    "Thou hast made me endless, such is thy pleasure. This frail vessel thou emptiest again and again, and fillest it ever with fresh life.\n",
    "\n",
    "This little flute of a reed thou hast carried over hills and dales, and hast breathed through it melodies eternally new.\n",
    "\n",
    "At the immortal touch of thy hands my little heart loses its limits in joy and gives birth to utterance ineffable.\n",
    "\n",
    "Thy infinite gifts come to me only on these very small hands of mine. Ages pass, and still thou pourest, and still there is room to fill.\n",
    "\n",
    "'''\n",
    "input_doc = input_doc.lower()\n",
    "print(input_doc)"
   ]
  },
  {
   "cell_type": "code",
   "execution_count": 12,
   "metadata": {},
   "outputs": [
    {
     "name": "stdout",
     "output_type": "stream",
     "text": [
      "thou hast made me endless, such is thy pleasure. this frail vessel thou emptiest again and again, and fillest it ever with fresh life.\n",
      "\n",
      "this little flute of a reed thou hast carried over hills and dales, and hast breathed through it melodies eternally new.\n",
      "\n",
      "at the immortal touch of thy hands my little heart loses its limits in joy and gives birth to utterance ineffable.\n",
      "\n",
      "thy infinite gifts come to me only on these very small hands of mine. ages pass, and still thou pourest, and still there is room to fill.\n"
     ]
    }
   ],
   "source": [
    "#removing whitespaces\n",
    "\n",
    "input_doc = input_doc.strip()\n",
    "print(input_doc)"
   ]
  },
  {
   "cell_type": "code",
   "execution_count": 13,
   "metadata": {},
   "outputs": [
    {
     "name": "stdout",
     "output_type": "stream",
     "text": [
      "thou hast made me endless such is thy pleasure this frail vessel thou emptiest again and again and fillest it ever with fresh life this little flute of a reed thou hast carried over hills and dales and hast breathed through it melodies eternally new at the immortal touch of thy hands my little heart loses its limits in joy and gives birth to utterance ineffable thy infinite gifts come to me only on these very small hands of mine ages pass and still thou pourest and still there is room to fill\n"
     ]
    }
   ],
   "source": [
    "#punctuation removal\n",
    "import re\n",
    "import nltk\n",
    "tokenizer = nltk.RegexpTokenizer(r\"\\w+\")\n",
    "new_words = tokenizer.tokenize(input_doc)\n",
    "new_words = ' '.join(new_words)\n",
    "print(new_words)\n",
    "input_doc = new_words"
   ]
  },
  {
   "cell_type": "code",
   "execution_count": 14,
   "metadata": {},
   "outputs": [
    {
     "name": "stdout",
     "output_type": "stream",
     "text": [
      "['thou', 'hast', 'made', 'endless', 'thy', 'pleasure', 'frail', 'vessel', 'thou', 'emptiest', 'fillest', 'ever', 'fresh', 'life', 'little', 'flute', 'reed', 'thou', 'hast', 'carried', 'hills', 'dales', 'hast', 'breathed', 'melodies', 'eternally', 'new', 'immortal', 'touch', 'thy', 'hands', 'little', 'heart', 'loses', 'limits', 'joy', 'gives', 'birth', 'utterance', 'ineffable', 'thy', 'infinite', 'gifts', 'come', 'small', 'hands', 'mine', 'ages', 'pass', 'still', 'thou', 'pourest', 'still', 'room', 'fill']\n",
      "thou hast made endless thy pleasure frail vessel thou emptiest fillest ever fresh life little flute reed thou hast carried hills dales hast breathed melodies eternally new immortal touch thy hands little heart loses limits joy gives birth utterance ineffable thy infinite gifts come small hands mine ages pass still thou pourest still room fill\n"
     ]
    },
    {
     "name": "stderr",
     "output_type": "stream",
     "text": [
      "[nltk_data] Downloading package punkt to\n",
      "[nltk_data]     C:\\Users\\user\\AppData\\Roaming\\nltk_data...\n",
      "[nltk_data]   Package punkt is already up-to-date!\n",
      "[nltk_data] Downloading package stopwords to\n",
      "[nltk_data]     C:\\Users\\user\\AppData\\Roaming\\nltk_data...\n",
      "[nltk_data]   Package stopwords is already up-to-date!\n"
     ]
    }
   ],
   "source": [
    "#stopword removal, tokenization\n",
    "import re\n",
    "import nltk\n",
    "nltk.download('punkt')\n",
    "nltk.download('stopwords')\n",
    "from nltk.corpus import stopwords\n",
    "from nltk.stem.porter import PorterStemmer\n",
    "\n",
    "stop_words = set(stopwords.words('english'))\n",
    "from nltk.tokenize import word_tokenize               #tokenization\n",
    "tokens = word_tokenize(input_doc)\n",
    "result = [i for i in tokens if not i in stop_words]\n",
    "print (result)\n",
    "result = ' '.join(result)\n",
    "print(result)\n",
    "input_doc = result"
   ]
  },
  {
   "cell_type": "code",
   "execution_count": 15,
   "metadata": {},
   "outputs": [
    {
     "name": "stdout",
     "output_type": "stream",
     "text": [
      "thou hast made endless thi pleasur frail vessel thou emptiest fillest ever fresh life littl flute reed thou hast carri hill dale hast breath melodi etern new immort touch thi hand littl heart lose limit joy give birth utter ineff thi infinit gift come small hand mine age pass still thou pourest still room fill "
     ]
    }
   ],
   "source": [
    "#stemming\n",
    "\n",
    "import re\n",
    "import nltk\n",
    "from nltk.stem import PorterStemmer\n",
    "from nltk.tokenize import word_tokenize\n",
    "  \n",
    "ps = PorterStemmer()\n",
    "\n",
    "words = word_tokenize(input_doc) \n",
    "for w in words:\n",
    "    print(ps.stem(w),end=' ')\n"
   ]
  },
  {
   "cell_type": "code",
   "execution_count": 16,
   "metadata": {},
   "outputs": [
    {
     "name": "stdout",
     "output_type": "stream",
     "text": [
      "thou hast made endless thy pleasure frail vessel thou emptiest fillest ever fresh life little flute reed thou hast carried hill dale hast breathed melody eternally new immortal touch thy hand little heart loses limit joy give birth utterance ineffable thy infinite gift come small hand mine age pas still thou pourest still room fill "
     ]
    }
   ],
   "source": [
    "#lemmatization\n",
    "\n",
    "import re\n",
    "import nltk\n",
    "from nltk.stem import WordNetLemmatizer\n",
    "from nltk.tokenize import word_tokenize\n",
    "lemmatizer=WordNetLemmatizer()\n",
    "input_doc=word_tokenize(input_doc)\n",
    "str = \"\"\n",
    "for word in input_doc:\n",
    "    print(lemmatizer.lemmatize(word), end = ' ')\n",
    "    str+=word+\" \"\n"
   ]
  },
  {
   "cell_type": "code",
   "execution_count": 17,
   "metadata": {},
   "outputs": [
    {
     "name": "stdout",
     "output_type": "stream",
     "text": [
      "['thou', 'hast', 'made', 'endless', 'thy', 'pleasure', 'frail', 'vessel', 'thou', 'emptiest', 'fillest', 'ever', 'fresh', 'life', 'little', 'flute', 'reed', 'thou', 'hast', 'carried', 'hills', 'dales', 'hast', 'breathed', 'melodies', 'eternally', 'new', 'immortal', 'touch', 'thy', 'hands', 'little', 'heart', 'loses', 'limits', 'joy', 'gives', 'birth', 'utterance', 'ineffable', 'thy', 'infinite', 'gifts', 'come', 'small', 'hands', 'mine', 'ages', 'pass', 'still', 'thou', 'pourest', 'still', 'room', 'fill']\n"
     ]
    }
   ],
   "source": [
    "#final tokenization\n",
    "\n",
    "import nltk\n",
    "nltk_tokens = nltk.word_tokenize(str)\n",
    "print (nltk_tokens)"
   ]
  },
  {
   "cell_type": "code",
   "execution_count": null,
   "metadata": {},
   "outputs": [],
   "source": []
  }
 ],
 "metadata": {
  "kernelspec": {
   "display_name": "Python 3",
   "language": "python",
   "name": "python3"
  },
  "language_info": {
   "codemirror_mode": {
    "name": "ipython",
    "version": 3
   },
   "file_extension": ".py",
   "mimetype": "text/x-python",
   "name": "python",
   "nbconvert_exporter": "python",
   "pygments_lexer": "ipython3",
   "version": "3.8.5"
  }
 },
 "nbformat": 4,
 "nbformat_minor": 4
}
