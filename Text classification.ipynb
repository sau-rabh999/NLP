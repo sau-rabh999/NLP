{
 "cells": [
  {
   "cell_type": "code",
   "execution_count": 17,
   "metadata": {},
   "outputs": [],
   "source": [
    "import sklearn.datasets as skd\n",
    "categories = ['sci.electronics','rec.motorcycles','comp.graphics','sci.med','sci.space','talk.politics.misc']\n",
    "news_train = skd.load_files('C:/Users/user/Downloads/20news/train' , categories = categories , encoding = 'ISO-8859-1')\n",
    "news_test = skd.load_files('C:/Users/user/Downloads/20news/test' , categories = categories , encoding = 'ISO-8859-1')"
   ]
  },
  {
   "cell_type": "code",
   "execution_count": 18,
   "metadata": {},
   "outputs": [
    {
     "name": "stdout",
     "output_type": "stream",
     "text": [
      "dict_keys(['data', 'filenames', 'target_names', 'target', 'DESCR'])\n"
     ]
    }
   ],
   "source": [
    "print(news_train.keys())"
   ]
  },
  {
   "cell_type": "code",
   "execution_count": 19,
   "metadata": {},
   "outputs": [
    {
     "data": {
      "text/plain": [
       "['comp.graphics',\n",
       " 'rec.motorcycles',\n",
       " 'sci.electronics',\n",
       " 'sci.med',\n",
       " 'sci.space',\n",
       " 'talk.politics.misc']"
      ]
     },
     "execution_count": 19,
     "metadata": {},
     "output_type": "execute_result"
    }
   ],
   "source": [
    "news_train.target_names"
   ]
  },
  {
   "cell_type": "code",
   "execution_count": 20,
   "metadata": {},
   "outputs": [
    {
     "data": {
      "text/plain": [
       "(3425, 47139)"
      ]
     },
     "execution_count": 20,
     "metadata": {},
     "output_type": "execute_result"
    }
   ],
   "source": [
    "from sklearn.feature_extraction.text import TfidfVectorizer\n",
    "tfidf = TfidfVectorizer()\n",
    "x_train_tfidf = tfidf.fit_transform(news_train.data)\n",
    "x_train_tfidf.shape"
   ]
  },
  {
   "cell_type": "code",
   "execution_count": 21,
   "metadata": {},
   "outputs": [],
   "source": [
    "from sklearn.naive_bayes import MultinomialNB\n",
    "clf = MultinomialNB().fit(x_train_tfidf, news_train.target)"
   ]
  },
  {
   "cell_type": "code",
   "execution_count": 27,
   "metadata": {},
   "outputs": [],
   "source": [
    "docs_new = [ \"I've seen some polygon routines in C and they're all too slow.\" , \n",
    "            \"How does the radio Electronics free information cards work?\",\n",
    "           \"All those who lived through this are the greatest heroes that humanity can produce\",\n",
    "           \"I'm now in the market for buying a BMW\",\n",
    "           \"The Navy's Triad satellite succesfully used drag free control.\",\n",
    "           \"No one has time to chase down every rumor that gets printed\" ]\n",
    "x_new_counts = tfidf.transform(docs_new)\n",
    "x_new_tfidf = tfidf_trans.transform(x_new_counts)\n",
    "predicted = clf.predict(x_new_tfidf)"
   ]
  },
  {
   "cell_type": "code",
   "execution_count": 28,
   "metadata": {},
   "outputs": [
    {
     "name": "stdout",
     "output_type": "stream",
     "text": [
      "0\n",
      "2\n",
      "3\n",
      "1\n",
      "4\n",
      "1\n"
     ]
    }
   ],
   "source": [
    "for x in predicted:\n",
    "    print(x)"
   ]
  },
  {
   "cell_type": "code",
   "execution_count": 29,
   "metadata": {},
   "outputs": [],
   "source": [
    "x_test_tf = tfidf.transform(news_test.data)\n",
    "x_test_tfidf = tfidf_trans.transform(x_test_tf)\n",
    "predicted = clf.predict(x_test_tfidf)"
   ]
  },
  {
   "cell_type": "code",
   "execution_count": 25,
   "metadata": {},
   "outputs": [
    {
     "name": "stdout",
     "output_type": "stream",
     "text": [
      "Accuracy:  0.9013157894736842\n",
      "                    precision    recall  f1-score   support\n",
      "\n",
      "     comp.graphics       0.93      0.86      0.89       389\n",
      "   rec.motorcycles       0.91      0.99      0.95       398\n",
      "   sci.electronics       0.91      0.84      0.87       393\n",
      "           sci.med       0.89      0.91      0.90       396\n",
      "         sci.space       0.84      0.96      0.89       394\n",
      "talk.politics.misc       0.96      0.84      0.89       310\n",
      "\n",
      "          accuracy                           0.90      2280\n",
      "         macro avg       0.91      0.90      0.90      2280\n",
      "      weighted avg       0.90      0.90      0.90      2280\n",
      "\n"
     ]
    },
    {
     "data": {
      "text/plain": [
       "array([[334,   3,  25,   9,  17,   1],\n",
       "       [  0, 394,   0,   1,   3,   0],\n",
       "       [ 15,  14, 329,   9,  24,   2],\n",
       "       [  6,   9,   8, 362,   6,   5],\n",
       "       [  5,   1,   1,   8, 377,   2],\n",
       "       [  1,  10,   0,  16,  24, 259]], dtype=int64)"
      ]
     },
     "execution_count": 25,
     "metadata": {},
     "output_type": "execute_result"
    }
   ],
   "source": [
    "from sklearn import metrics\n",
    "from sklearn.metrics import accuracy_score\n",
    "print('Accuracy: ',accuracy_score(news_test.target , predicted))\n",
    "print(metrics.classification_report(news_test.target, predicted, target_names = news_test.target_names)), \n",
    "metrics.confusion_matrix(news_test.target, predicted)\n"
   ]
  },
  {
   "cell_type": "code",
   "execution_count": null,
   "metadata": {},
   "outputs": [],
   "source": []
  }
 ],
 "metadata": {
  "kernelspec": {
   "display_name": "Python 3",
   "language": "python",
   "name": "python3"
  },
  "language_info": {
   "codemirror_mode": {
    "name": "ipython",
    "version": 3
   },
   "file_extension": ".py",
   "mimetype": "text/x-python",
   "name": "python",
   "nbconvert_exporter": "python",
   "pygments_lexer": "ipython3",
   "version": "3.8.5"
  }
 },
 "nbformat": 4,
 "nbformat_minor": 4
}
