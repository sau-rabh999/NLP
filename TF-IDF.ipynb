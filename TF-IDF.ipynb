{
 "cells": [
  {
   "cell_type": "code",
   "execution_count": 3,
   "metadata": {},
   "outputs": [
    {
     "name": "stderr",
     "output_type": "stream",
     "text": [
      "[nltk_data] Downloading package punkt to\n",
      "[nltk_data]     C:\\Users\\user\\AppData\\Roaming\\nltk_data...\n",
      "[nltk_data]   Package punkt is already up-to-date!\n",
      "[nltk_data] Downloading package stopwords to\n",
      "[nltk_data]     C:\\Users\\user\\AppData\\Roaming\\nltk_data...\n",
      "[nltk_data]   Package stopwords is already up-to-date!\n"
     ]
    },
    {
     "name": "stdout",
     "output_type": "stream",
     "text": [
      "['thou hast made endless thy pleasure', 'frail vessel thou emptiest fillest ever fresh life', 'little flute reed thou hast carried hill dale hast breathed melody eternally new', 'immortal touch thy hand little heart loses limit joy give birth utterance ineffable', 'thy infinite gift come small hand mine', 'age pas still thou pourest still room fill']\n",
      "[[0.         0.         0.         0.         0.         0.\n",
      "  0.         0.47121208 0.         0.         0.         0.\n",
      "  0.         0.         0.         0.         0.         0.\n",
      "  0.38640064 0.         0.         0.         0.         0.\n",
      "  0.         0.         0.         0.         0.         0.47121208\n",
      "  0.         0.         0.         0.         0.47121208 0.\n",
      "  0.         0.         0.         0.         0.27955087 0.32622597\n",
      "  0.         0.         0.        ]\n",
      " [0.         0.         0.         0.         0.         0.\n",
      "  0.36880648 0.         0.         0.36880648 0.         0.36880648\n",
      "  0.         0.36880648 0.36880648 0.         0.         0.\n",
      "  0.         0.         0.         0.         0.         0.\n",
      "  0.         0.36880648 0.         0.         0.         0.\n",
      "  0.         0.         0.         0.         0.         0.\n",
      "  0.         0.         0.         0.         0.21879782 0.\n",
      "  0.         0.         0.36880648]\n",
      " [0.         0.         0.28045142 0.28045142 0.         0.28045142\n",
      "  0.         0.         0.28045142 0.         0.         0.\n",
      "  0.28045142 0.         0.         0.         0.         0.\n",
      "  0.45994835 0.         0.28045142 0.         0.         0.\n",
      "  0.         0.         0.         0.22997417 0.         0.\n",
      "  0.28045142 0.         0.28045142 0.         0.         0.\n",
      "  0.28045142 0.         0.         0.         0.16638037 0.\n",
      "  0.         0.         0.        ]\n",
      " [0.         0.2908139  0.         0.         0.         0.\n",
      "  0.         0.         0.         0.         0.         0.\n",
      "  0.         0.         0.         0.         0.2908139  0.23847156\n",
      "  0.         0.2908139  0.         0.2908139  0.2908139  0.\n",
      "  0.2908139  0.         0.2908139  0.23847156 0.2908139  0.\n",
      "  0.         0.         0.         0.         0.         0.\n",
      "  0.         0.         0.         0.         0.         0.20133407\n",
      "  0.2908139  0.2908139  0.        ]\n",
      " [0.         0.         0.         0.         0.40318254 0.\n",
      "  0.         0.         0.         0.         0.         0.\n",
      "  0.         0.         0.         0.40318254 0.         0.33061545\n",
      "  0.         0.         0.         0.         0.         0.40318254\n",
      "  0.         0.         0.         0.         0.         0.\n",
      "  0.         0.40318254 0.         0.         0.         0.\n",
      "  0.         0.         0.40318254 0.         0.         0.27912828\n",
      "  0.         0.         0.        ]\n",
      " [0.32700076 0.         0.         0.         0.         0.\n",
      "  0.         0.         0.         0.         0.32700076 0.\n",
      "  0.         0.         0.         0.         0.         0.\n",
      "  0.         0.         0.         0.         0.         0.\n",
      "  0.         0.         0.         0.         0.         0.\n",
      "  0.         0.         0.         0.32700076 0.         0.32700076\n",
      "  0.         0.32700076 0.         0.65400152 0.19399619 0.\n",
      "  0.         0.         0.        ]]\n"
     ]
    }
   ],
   "source": [
    "import nltk\n",
    "nltk.download('punkt')\n",
    "nltk.download('stopwords')\n",
    "paragraph = '''\n",
    "Thou hast made me endless, such is thy pleasure. This frail vessel thou emptiest again and again, and fillest it ever with fresh life.\n",
    "\n",
    "This little flute of a reed thou hast carried over hills and dales, and hast breathed through it melodies eternally new.\n",
    "\n",
    "At the immortal touch of thy hands my little heart loses its limits in joy and gives birth to utterance ineffable.\n",
    "\n",
    "Thy infinite gifts come to me only on these very small hands of mine. Ages pass, and still thou pourest, and still there is room to fill.\n",
    "'''\n",
    "import re\n",
    "from nltk.corpus import stopwords\n",
    "from nltk.stem.porter import PorterStemmer\n",
    "from nltk.stem import WordNetLemmatizer\n",
    "\n",
    "ps = PorterStemmer()\n",
    "wordnet = WordNetLemmatizer()\n",
    "sentences = nltk.sent_tokenize(paragraph)\n",
    "corpus=[]\n",
    "for i in range(len(sentences)):\n",
    "    review = re.sub('[^A-Za-z]',' ',sentences[i])\n",
    "    review = review.lower()\n",
    "    review = review.split()\n",
    "    review = [wordnet.lemmatize(word) for word in review if not word in set(stopwords.words('english'))]\n",
    "    review = ' '.join(review)\n",
    "    corpus.append(review)\n",
    "    \n",
    "print(corpus)    \n",
    "\n",
    "#creating the TF-IDF model\n",
    "from sklearn.feature_extraction.text import TfidfVectorizer\n",
    "cv = TfidfVectorizer()\n",
    "x = cv.fit_transform(corpus).toarray()\n",
    "\n",
    "print(x)\n",
    "    \n",
    "    \n",
    "\n",
    "\n"
   ]
  },
  {
   "cell_type": "code",
   "execution_count": null,
   "metadata": {},
   "outputs": [],
   "source": []
  }
 ],
 "metadata": {
  "kernelspec": {
   "display_name": "Python 3",
   "language": "python",
   "name": "python3"
  },
  "language_info": {
   "codemirror_mode": {
    "name": "ipython",
    "version": 3
   },
   "file_extension": ".py",
   "mimetype": "text/x-python",
   "name": "python",
   "nbconvert_exporter": "python",
   "pygments_lexer": "ipython3",
   "version": "3.8.5"
  }
 },
 "nbformat": 4,
 "nbformat_minor": 4
}
