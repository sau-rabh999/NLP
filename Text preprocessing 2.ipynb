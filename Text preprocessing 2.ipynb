{
 "cells": [
  {
   "cell_type": "code",
   "execution_count": 6,
   "metadata": {},
   "outputs": [],
   "source": [
    "import re\n",
    "import nltk"
   ]
  },
  {
   "cell_type": "code",
   "execution_count": 7,
   "metadata": {},
   "outputs": [
    {
     "name": "stdout",
     "output_type": "stream",
     "text": [
      "step 1: find a base price by getting to know common pricing strategies in your industry thousands of entrepreneurs and decades of learning have paved the way for new businesses to craft a strategy that utilizes the most innovative pricing options available. knowing which pricing models work best in your industry can simplify how you price a product, and give you confidence knowing that you’re not simply guessing. cost-based pricing one of the most simple ways to price your product is called cost-plus pricing.  cost-based pricing involves calculating the total costs it takes to make your product, then adding a percentage markup to determine the final price for example, let’s say you’ve designed a product with the following costs: •\tmaterial costs = rs.2000 •\tlabor costs = rs1000 •\toverhead = rs800 •\ttotal costs = rs3800 you then add your markup percentage, let’s say 50% (retail industry standard), to the total costs to give you a final product price of $57.00 ($38 x 1.50). if you remember our “charm pricing” tactic  from the beginning, you might mark this product at $57.99. this method is simple, fast, and lets you quickly add a profit margin to any product you intend to sell.\n"
     ]
    }
   ],
   "source": [
    "#lowercase\n",
    "\n",
    "input_doc = \"STEP 1: FIND A BASE PRICE BY GETTING TO KNOW COMMON PRICING STRATEGIES IN YOUR INDUSTRY Thousands of entrepreneurs and decades of learning have paved the way for new businesses to craft a strategy that utilizes the most innovative pricing options available. Knowing which pricing models work best in your industry can simplify how you price a product, and give you confidence knowing that you’re not simply guessing. COST-BASED PRICING One of the most simple ways to price your product is called cost-plus pricing.  Cost-based pricing involves calculating the total costs it takes to make your product, then adding a percentage markup to determine the final price For example, let’s say you’ve designed a product with the following costs: •\tMaterial costs = Rs.2000 •\tLabor costs = Rs1000 •\tOverhead = Rs800 •\tTotal Costs = Rs3800 You then add your markup percentage, let’s say 50% (retail industry standard), to the total costs to give you a final product price of $57.00 ($38 x 1.50). If you remember our “Charm Pricing” tactic  from the beginning, you might mark this product at $57.99. This method is simple, fast, and lets you quickly add a profit margin to any product you intend to sell.\"\n",
    "input_doc = input_doc.lower()\n",
    "print(input_doc)"
   ]
  },
  {
   "cell_type": "code",
   "execution_count": 8,
   "metadata": {},
   "outputs": [
    {
     "name": "stdout",
     "output_type": "stream",
     "text": [
      "step find a base price by getting to know common pricing strategies in your industry thousands of entrepreneurs and decades of learning have paved the way for new businesses to craft a strategy that utilizes the most innovative pricing options available knowing which pricing models work best in your industry can simplify how you price a product and give you confidence knowing that you re not simply guessing cost based pricing one of the most simple ways to price your product is called cost plus pricing cost based pricing involves calculating the total costs it takes to make your product then adding a percentage markup to determine the final price for example let s say you ve designed a product with the following costs material costs rs labor costs rs overhead rs total costs rs you then add your markup percentage let s say retail industry standard to the total costs to give you a final product price of x if you remember our charm pricing tactic from the beginning you might mark this product at this method is simple fast and lets you quickly add a profit margin to any product you intend to sell\n"
     ]
    }
   ],
   "source": [
    "\n",
    "input_doc = input_doc.strip()  #whitespaces removal\n",
    "result = re.sub(r'\\d+', '', input_doc)#removal of numerics\n",
    "input_doc = result\n",
    "\n",
    "tokenizer = nltk.RegexpTokenizer(r\"\\w+\")     #punctuation removal\n",
    "new_words = tokenizer.tokenize(input_doc)\n",
    "new_words = ' '.join(new_words)\n",
    "print(new_words)\n",
    "input_doc = new_words"
   ]
  },
  {
   "cell_type": "code",
   "execution_count": 9,
   "metadata": {},
   "outputs": [
    {
     "name": "stdout",
     "output_type": "stream",
     "text": [
      "['step', 'find', 'base', 'price', 'getting', 'know', 'common', 'pricing', 'strategies', 'industry', 'thousands', 'entrepreneurs', 'decades', 'learning', 'paved', 'way', 'new', 'businesses', 'craft', 'strategy', 'utilizes', 'innovative', 'pricing', 'options', 'available', 'knowing', 'pricing', 'models', 'work', 'best', 'industry', 'simplify', 'price', 'product', 'give', 'confidence', 'knowing', 'simply', 'guessing', 'cost', 'based', 'pricing', 'one', 'simple', 'ways', 'price', 'product', 'called', 'cost', 'plus', 'pricing', 'cost', 'based', 'pricing', 'involves', 'calculating', 'total', 'costs', 'takes', 'make', 'product', 'adding', 'percentage', 'markup', 'determine', 'final', 'price', 'example', 'let', 'say', 'designed', 'product', 'following', 'costs', 'material', 'costs', 'rs', 'labor', 'costs', 'rs', 'overhead', 'rs', 'total', 'costs', 'rs', 'add', 'markup', 'percentage', 'let', 'say', 'retail', 'industry', 'standard', 'total', 'costs', 'give', 'final', 'product', 'price', 'x', 'remember', 'charm', 'pricing', 'tactic', 'beginning', 'might', 'mark', 'product', 'method', 'simple', 'fast', 'lets', 'quickly', 'add', 'profit', 'margin', 'product', 'intend', 'sell']\n",
      "step find base price getting know common pricing strategies industry thousands entrepreneurs decades learning paved way new businesses craft strategy utilizes innovative pricing options available knowing pricing models work best industry simplify price product give confidence knowing simply guessing cost based pricing one simple ways price product called cost plus pricing cost based pricing involves calculating total costs takes make product adding percentage markup determine final price example let say designed product following costs material costs rs labor costs rs overhead rs total costs rs add markup percentage let say retail industry standard total costs give final product price x remember charm pricing tactic beginning might mark product method simple fast lets quickly add profit margin product intend sell\n"
     ]
    },
    {
     "name": "stderr",
     "output_type": "stream",
     "text": [
      "[nltk_data] Downloading package punkt to\n",
      "[nltk_data]     C:\\Users\\user\\AppData\\Roaming\\nltk_data...\n",
      "[nltk_data]   Package punkt is already up-to-date!\n",
      "[nltk_data] Downloading package stopwords to\n",
      "[nltk_data]     C:\\Users\\user\\AppData\\Roaming\\nltk_data...\n",
      "[nltk_data]   Package stopwords is already up-to-date!\n"
     ]
    }
   ],
   "source": [
    "#stopword removal\n",
    "\n",
    "nltk.download('punkt')\n",
    "nltk.download('stopwords')\n",
    "from nltk.corpus import stopwords\n",
    "from nltk.stem.porter import PorterStemmer\n",
    "\n",
    "stop_words = set(stopwords.words('english'))\n",
    "from nltk.tokenize import word_tokenize\n",
    "tokens = word_tokenize(input_doc)\n",
    "result = [i for i in tokens if not i in stop_words]\n",
    "print (result)\n",
    "result = ' '.join(result)\n",
    "print(result)\n",
    "input_doc = result\n",
    "\n"
   ]
  },
  {
   "cell_type": "code",
   "execution_count": 10,
   "metadata": {},
   "outputs": [
    {
     "name": "stdout",
     "output_type": "stream",
     "text": [
      "step find base price get know common price strategi industri thousand entrepreneur decad learn pave way new busi craft strategi util innov price option avail know price model work best industri simplifi price product give confid know simpli guess cost base price one simpl way price product call cost plu price cost base price involv calcul total cost take make product ad percentag markup determin final price exampl let say design product follow cost materi cost rs labor cost rs overhead rs total cost rs add markup percentag let say retail industri standard total cost give final product price x rememb charm price tactic begin might mark product method simpl fast let quickli add profit margin product intend sell "
     ]
    }
   ],
   "source": [
    "#stemming\n",
    "\n",
    "from nltk.stem import PorterStemmer\n",
    "from nltk.tokenize import word_tokenize\n",
    "  \n",
    "ps = PorterStemmer()\n",
    "\n",
    "words = word_tokenize(input_doc)\n",
    " \n",
    "for w in words:\n",
    "    print(ps.stem(w), end = ' ')"
   ]
  },
  {
   "cell_type": "code",
   "execution_count": 11,
   "metadata": {},
   "outputs": [
    {
     "name": "stdout",
     "output_type": "stream",
     "text": [
      "step find base price getting know common pricing strategy industry thousand entrepreneur decade learning paved way new business craft strategy utilizes innovative pricing option available knowing pricing model work best industry simplify price product give confidence knowing simply guessing cost based pricing one simple way price product called cost plus pricing cost based pricing involves calculating total cost take make product adding percentage markup determine final price example let say designed product following cost material cost r labor cost r overhead r total cost r add markup percentage let say retail industry standard total cost give final product price x remember charm pricing tactic beginning might mark product method simple fast let quickly add profit margin product intend sell "
     ]
    }
   ],
   "source": [
    "#lemmatization\n",
    "\n",
    "from nltk.stem import WordNetLemmatizer\n",
    "from nltk.tokenize import word_tokenize\n",
    "lemmatizer=WordNetLemmatizer()\n",
    "input_doc=word_tokenize(input_doc)\n",
    "\n",
    "str = \"\"\n",
    "for word in input_doc:\n",
    "    print(lemmatizer.lemmatize(word), end = ' ')\n",
    "    str+=word+\" \"\n"
   ]
  },
  {
   "cell_type": "code",
   "execution_count": 12,
   "metadata": {},
   "outputs": [
    {
     "name": "stdout",
     "output_type": "stream",
     "text": [
      "['step', 'find', 'base', 'price', 'getting', 'know', 'common', 'pricing', 'strategies', 'industry', 'thousands', 'entrepreneurs', 'decades', 'learning', 'paved', 'way', 'new', 'businesses', 'craft', 'strategy', 'utilizes', 'innovative', 'pricing', 'options', 'available', 'knowing', 'pricing', 'models', 'work', 'best', 'industry', 'simplify', 'price', 'product', 'give', 'confidence', 'knowing', 'simply', 'guessing', 'cost', 'based', 'pricing', 'one', 'simple', 'ways', 'price', 'product', 'called', 'cost', 'plus', 'pricing', 'cost', 'based', 'pricing', 'involves', 'calculating', 'total', 'costs', 'takes', 'make', 'product', 'adding', 'percentage', 'markup', 'determine', 'final', 'price', 'example', 'let', 'say', 'designed', 'product', 'following', 'costs', 'material', 'costs', 'rs', 'labor', 'costs', 'rs', 'overhead', 'rs', 'total', 'costs', 'rs', 'add', 'markup', 'percentage', 'let', 'say', 'retail', 'industry', 'standard', 'total', 'costs', 'give', 'final', 'product', 'price', 'x', 'remember', 'charm', 'pricing', 'tactic', 'beginning', 'might', 'mark', 'product', 'method', 'simple', 'fast', 'lets', 'quickly', 'add', 'profit', 'margin', 'product', 'intend', 'sell']\n"
     ]
    }
   ],
   "source": [
    "#final tokenization\n",
    "\n",
    "import nltk\n",
    "nltk_tokens = nltk.word_tokenize(str)\n",
    "print (nltk_tokens)"
   ]
  },
  {
   "cell_type": "code",
   "execution_count": null,
   "metadata": {},
   "outputs": [],
   "source": []
  }
 ],
 "metadata": {
  "kernelspec": {
   "display_name": "Python 3",
   "language": "python",
   "name": "python3"
  },
  "language_info": {
   "codemirror_mode": {
    "name": "ipython",
    "version": 3
   },
   "file_extension": ".py",
   "mimetype": "text/x-python",
   "name": "python",
   "nbconvert_exporter": "python",
   "pygments_lexer": "ipython3",
   "version": "3.8.5"
  }
 },
 "nbformat": 4,
 "nbformat_minor": 4
}
